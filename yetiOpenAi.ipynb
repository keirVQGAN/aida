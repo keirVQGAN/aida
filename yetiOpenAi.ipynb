{
  "nbformat": 4,
  "nbformat_minor": 0,
  "metadata": {
    "colab": {
      "provenance": [],
      "collapsed_sections": [
        "OPBzVO2CHWpK",
        "1kyrp3GaHa0m",
        "nB3JMXH4DxTc"
      ],
      "authorship_tag": "ABX9TyMz5OPiYJ+SRuf1X8oZ+ai3",
      "include_colab_link": true
    },
    "kernelspec": {
      "name": "python3",
      "display_name": "Python 3"
    },
    "language_info": {
      "name": "python"
    }
  },
  "cells": [
    {
      "cell_type": "markdown",
      "metadata": {
        "id": "view-in-github",
        "colab_type": "text"
      },
      "source": [
        "<a href=\"https://colab.research.google.com/github/keirVQGAN/aida/blob/main/yetiOpenAi.ipynb\" target=\"_parent\"><img src=\"https://colab.research.google.com/assets/colab-badge.svg\" alt=\"Open In Colab\"/></a>"
      ]
    },
    {
      "cell_type": "code",
      "execution_count": null,
      "metadata": {
        "colab": {
          "base_uri": "https://localhost:8080/",
          "height": 116
        },
        "cellView": "form",
        "id": "z4dqX64Prnro",
        "outputId": "a40e7f2c-f287-4e9a-8a7c-756c19d5fb7e"
      },
      "outputs": [
        {
          "output_type": "display_data",
          "data": {
            "text/plain": [
              ">> \u001b[93mInstalled\u001b[0m | \u001b[7;30mopenAi\u001b[0m\n"
            ],
            "text/html": [
              "<pre style=\"white-space:pre;overflow-x:auto;line-height:normal;font-family:Menlo,'DejaVu Sans Mono',consolas,'Courier New',monospace\">&gt;&gt; <span style=\"color: #ffff00; text-decoration-color: #ffff00\">Installed</span> | <span style=\"background-color: #000000\">openAi</span>\n",
              "</pre>\n"
            ]
          },
          "metadata": {}
        },
        {
          "output_type": "display_data",
          "data": {
            "text/plain": [
              ">> \u001b[93mInstalled\u001b[0m | \u001b[7;30mdash\u001b[0m\n"
            ],
            "text/html": [
              "<pre style=\"white-space:pre;overflow-x:auto;line-height:normal;font-family:Menlo,'DejaVu Sans Mono',consolas,'Courier New',monospace\">&gt;&gt; <span style=\"color: #ffff00; text-decoration-color: #ffff00\">Installed</span> | <span style=\"background-color: #000000\">dash</span>\n",
              "</pre>\n"
            ]
          },
          "metadata": {}
        },
        {
          "output_type": "display_data",
          "data": {
            "text/plain": [
              ">> \u001b[93mInstalled\u001b[0m | \u001b[7;30myetiUncommon\u001b[0m\n"
            ],
            "text/html": [
              "<pre style=\"white-space:pre;overflow-x:auto;line-height:normal;font-family:Menlo,'DejaVu Sans Mono',consolas,'Courier New',monospace\">&gt;&gt; <span style=\"color: #ffff00; text-decoration-color: #ffff00\">Installed</span> | <span style=\"background-color: #000000\">yetiUncommon</span>\n",
              "</pre>\n"
            ]
          },
          "metadata": {}
        },
        {
          "output_type": "display_data",
          "data": {
            "text/plain": [
              ">> \u001b[93mInstalled\u001b[0m | \u001b[7;30mprompt generator\u001b[0m\n"
            ],
            "text/html": [
              "<pre style=\"white-space:pre;overflow-x:auto;line-height:normal;font-family:Menlo,'DejaVu Sans Mono',consolas,'Courier New',monospace\">&gt;&gt; <span style=\"color: #ffff00; text-decoration-color: #ffff00\">Installed</span> | <span style=\"background-color: #000000\">prompt generator</span>\n",
              "</pre>\n"
            ]
          },
          "metadata": {}
        },
        {
          "output_type": "display_data",
          "data": {
            "text/plain": [
              ">> \u001b[96mGPU\u001b[0m | \n"
            ],
            "text/html": [
              "<pre style=\"white-space:pre;overflow-x:auto;line-height:normal;font-family:Menlo,'DejaVu Sans Mono',consolas,'Courier New',monospace\">&gt;&gt; <span style=\"color: #00ffff; text-decoration-color: #00ffff\">GPU</span> | \n",
              "</pre>\n"
            ]
          },
          "metadata": {}
        },
        {
          "output_type": "display_data",
          "data": {
            "text/plain": [
              ">> \u001b[95mComplete:\u001b[0m | \u001b[1;7;30m0\u001b[0m\u001b[7;30m Seconds\u001b[0m\n"
            ],
            "text/html": [
              "<pre style=\"white-space:pre;overflow-x:auto;line-height:normal;font-family:Menlo,'DejaVu Sans Mono',consolas,'Courier New',monospace\">&gt;&gt; <span style=\"color: #ff00ff; text-decoration-color: #ff00ff\">Complete:</span> | <span style=\"background-color: #000000; font-weight: bold\">0</span><span style=\"background-color: #000000\"> Seconds</span>\n",
              "</pre>\n"
            ]
          },
          "metadata": {}
        }
      ],
      "source": [
        "#-------------------------------------------------------------------------------\n",
        "#@markdown > #### **Yeti**common\n",
        "#@markdown Run this cell on the first run and after a restart\n",
        "\n",
        "#-------------------------------------------------------------------------------\n",
        "#MOUNT // Google Drive\n",
        "import os, shutil\n",
        "from pathlib import Path\n",
        "from google.colab import drive\n",
        "import sys, time, warnings, glob, itertools\n",
        "from IPython.display import clear_output, display, Image\n",
        "from datetime import datetime\n",
        "from random import randrange\n",
        "from slugify import slugify\n",
        "############################################################\n",
        "#DEBUG\n",
        "GIT_RESYNC=0\n",
        "if GIT_RESYNC:\n",
        "  !rm -rf -rf /content/yeti /content/yeti.py\n",
        "  !git clone https://github.com/keirVQGAN/yeti /content/yeti\n",
        "  shutil.copy('/content/yeti/yeti.py','/content') \n",
        "  clear_output()\n",
        "\n",
        "\n",
        "#-------------------------------------------------------------------------------\n",
        "#MOUNT // Google Drive\n",
        "if not os.path.ismount('/content/drive'): drive.mount ('/content/drive/')\n",
        "if os.path.isdir('/content/sample_data'): shutil.rmtree('/content/sample_data')\n",
        "clear_output()\n",
        "\n",
        "\n",
        "#-------------------------------------------------------------------------------\n",
        "#VARIABLES // Global\n",
        "localPath='/content'\n",
        "drivePath='/content/drive/MyDrive/yeti'\n",
        "inPath=f'{drivePath}/in'\n",
        "outPath=f'{drivePath}/out'\n",
        "start_time = time.time()\n",
        "warnings.filterwarnings('ignore')\n",
        "gpu = !nvidia-smi --query-gpu=gpu_name --format=csv\n",
        "confPath='/content/config/conf'\n",
        "\n",
        "#-------------------------------------------------------------------------------\n",
        "#INSTALL // Dash, openAI, fPDF\n",
        "try:\n",
        "  from jupyter_dash import JupyterDash\n",
        "except ImportError as error:\n",
        "  !pip install dash==2.0.0 jupyter-dash                                         &> /dev/null\n",
        "\n",
        "try:\n",
        "  import openai\n",
        "except ImportError as error:\n",
        "  !pip install openai                                                           &> /dev/null\n",
        "\n",
        "import openai\n",
        "OPENAPI_KEY='",
        "openai.api_key = OPENAPI_KEY\n",
        "\n",
        "try:\n",
        "  from fpdf import FPDF\n",
        "except ImportError as error:\n",
        "  !pip install fpdf                                                             &> /dev/null\n",
        "\n",
        "from fpdf import FPDF\n",
        "\n",
        "yeti.txtY('Installed', 'openAi')\n",
        "yeti.txtY('Installed', 'dash')\n",
        "\n",
        "#-------------------------------------------------------------------------------\n",
        "#INSTALL // yetiUncommon\n",
        "if not os.path.isdir('/content/yeti'):\n",
        "  !git clone https://github.com/keirVQGAN/yeti /content/yeti                    &> /dev/null\n",
        "  shutil.copy('/content/yeti/yeti.py','/content')\n",
        "  %pip install -r /content/yeti/requirements_yeti.txt                           &> /dev/null\n",
        "  import yeti\n",
        "  yetiPaths=['super','trans','inter','video','csv', 'style']\n",
        "  for y in yetiPaths: yeti.mk(f'{inPath}/{y}')\n",
        "\n",
        "import yeti\n",
        "\n",
        "yeti.txtY('Installed','yetiUncommon')\n",
        "\n",
        "#-------------------------------------------------------------------------------\n",
        "#Install prompt generator\n",
        "\n",
        "if not os.path.isdir('/content/sdutils'):\n",
        "  !pip install prompt_gen\n",
        "  yeti.txtM('Installing', 'sdutils...')\n",
        "  !git clone https://github.com/newsbubbles/sdutils &> /dev/null\n",
        "  !cp /content/sdutil/promptgen.py /content/ &> /dev/null\n",
        "  !cp /content/sdutil/genutil.py /content/ &> /dev/null\n",
        "  !cp /content/sdutils/genutil.py /content/genutil.py\n",
        "  !cp /content/sdutils/promptgen.py /content/promptgen.py\n",
        "\n",
        "from promptgen import PromptGenerator\n",
        "from genutil import Scaffold\n",
        "\n",
        "yeti.txtY('Installed', 'prompt generator')\n",
        "\n",
        "imagePath=Path.cwd() / \"/content/images\"\n",
        "imagePath.mkdir(exist_ok=True)\n",
        "\n",
        "txtPath=Path.cwd() / \"/content/texts\"\n",
        "txtPath.mkdir(exist_ok=True)\n",
        "  \n",
        "\n",
        "yeti.txtC('GPU', gpu[1])\n",
        "yeti.timeTaken(start_time)"
      ]
    },
    {
      "cell_type": "markdown",
      "source": [
        "####Settings"
      ],
      "metadata": {
        "id": "kSZBbWFKDnny"
      }
    },
    {
      "cell_type": "code",
      "source": [
        "#-------------------------------------------------------------------------------\n",
        "#@markdown > ##### **Yeti**Diffuse Prompter\n",
        "#-------------------------------------------------------------------------------\n",
        "#YetiDiffuse // PROMPTER\n",
        "PROMPTER='$vibe $position $ethnicity $subject $drape $costume $material $camera $stock $light_direction $lighting $photographer'#@param {type:\"string\"}\n",
        "jsonFile='/content/yeti/prompts/cone.json'#@param {type:\"string\"}\n",
        "data, text_prompt, strength, prompt_data = yeti.prompter(jsonFile,PROMPTER)\n",
        "yeti.txtB(text_prompt)"
      ],
      "metadata": {
        "colab": {
          "base_uri": "https://localhost:8080/",
          "height": 66
        },
        "id": "trZrv86QvdIA",
        "outputId": "206f0464-33d6-434d-fda1-9220af9aec32",
        "cellView": "form"
      },
      "execution_count": 94,
      "outputs": [
        {
          "output_type": "display_data",
          "data": {
            "text/plain": [
              "\u001b[7;30m>> an award winning over-the-shoulder Abazinian animalitic spirit costumed in a formal attire childrens craft \u001b[0m\n",
              "\u001b[7;30mmaterials Rolleiflex Automat Fomapan \u001b[0m\u001b[1;7;30m400\u001b[0m\u001b[7;30m lit from below neon tubes Robert Frank\u001b[0m\n"
            ],
            "text/html": [
              "<pre style=\"white-space:pre;overflow-x:auto;line-height:normal;font-family:Menlo,'DejaVu Sans Mono',consolas,'Courier New',monospace\"><span style=\"background-color: #000000\">&gt;&gt; an award winning over-the-shoulder Abazinian animalitic spirit costumed in a formal attire childrens craft </span>\n",
              "<span style=\"background-color: #000000\">materials Rolleiflex Automat Fomapan </span><span style=\"background-color: #000000; font-weight: bold\">400</span><span style=\"background-color: #000000\"> lit from below neon tubes Robert Frank</span>\n",
              "</pre>\n"
            ]
          },
          "metadata": {}
        }
      ]
    },
    {
      "cell_type": "markdown",
      "source": [
        "#####Text Settings"
      ],
      "metadata": {
        "id": "OPBzVO2CHWpK"
      }
    },
    {
      "cell_type": "code",
      "source": [
        "RENDER_TEXT=True #@param {type:\"boolean\"}\n",
        "textPath='/content/texts'\n",
        "ENGINE='text-ada-001' #@param [\"text-davinci-003\",\"text-ada-001\"]\n",
        "PROMPT_TXT='A contemporary poem about annoyed middle aged pagens performing human sacrifices for ancient pagan gods in Waitrose supermarkets' #@param\n",
        "TEMPREATURE=0.5 #@param \n",
        "MAX_TOKENS=150 #@param\n",
        "TOP_P=0.88 #@param\n",
        "FREQUENCY_PENALTY=0.6 #@param\n",
        "PRESENCE_PENALTY=0.4 #@param\n",
        "STOP='' #@param\n",
        "N=1\n",
        "# TEXT = TXT(N,ENGINE,PROMPT,TEMPREATURE,MAX_TOKENS,TOP_P,FREQUENCY_PENALTY, PRESENCE_PENALTY, STOP)\n",
        "\n"
      ],
      "metadata": {
        "cellView": "form",
        "id": "3dgtdbcoC4d8"
      },
      "execution_count": null,
      "outputs": []
    },
    {
      "cell_type": "markdown",
      "source": [
        "#####Image Settings"
      ],
      "metadata": {
        "id": "1kyrp3GaHa0m"
      }
    },
    {
      "cell_type": "code",
      "source": [
        "RENDER_IMAGE=True #@param {type:\"boolean\"}\n",
        "imagePath='/content/images'\n",
        "PROMPT_IMG=\"A studio headshot of an annoyed middle-class female pagen covered in thick layers of pigment paint,  iridescent feathers, velvet and gore covered stags antlers growing out of her head , shot with a Hasselblad medium format camera in high-key lighting\" #@param\n",
        "VARIATIONS=1 #@param {type: 'slider',min: 1,max:10}\n",
        "SIZE=\"256x256\"  #@param [\"256x256\", \"512x512\", \"1024x1024\"] {allow-input: false}\n",
        "# IMAGE=IMG(PROMPT,VARIATIONS,SIZE)"
      ],
      "metadata": {
        "cellView": "form",
        "id": "0VfDiWmkHTpz"
      },
      "execution_count": null,
      "outputs": []
    },
    {
      "cell_type": "markdown",
      "source": [
        "####Render"
      ],
      "metadata": {
        "id": "nB3JMXH4DxTc"
      }
    },
    {
      "cell_type": "code",
      "source": [
        "#@markdown ###<< Render\n",
        "if RENDER_TEXT:\n",
        "  TEXT=yeti.TXT(textPath,N,ENGINE,PROMPT_TXT,TEMPREATURE,MAX_TOKENS,TOP_P,FREQUENCY_PENALTY, PRESENCE_PENALTY, STOP)\n",
        "if RENDER_IMAGE:\n",
        "  IMG=yeti.IMG(imagePath,PROMPT_IMG,VARIATIONS,SIZE)\n",
        "yeti.PDF(TEXT,IMG)"
      ],
      "metadata": {
        "id": "d4IDKfB8sgDy"
      },
      "execution_count": null,
      "outputs": []
    }
  ]
}
